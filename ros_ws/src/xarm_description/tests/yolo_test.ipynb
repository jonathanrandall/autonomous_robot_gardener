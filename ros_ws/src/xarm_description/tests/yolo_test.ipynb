{
 "cells": [
  {
   "cell_type": "code",
   "execution_count": 1,
   "id": "73fd7d1a",
   "metadata": {},
   "outputs": [
    {
     "name": "stdout",
     "output_type": "stream",
     "text": [
      "WARNING ⚠️ user config directory '/home/ubuntu/.config/Ultralytics' is not writeable, defaulting to '/tmp' or CWD. Alternatively you can define a YOLO_CONFIG_DIR environment variable for this path.\n",
      "Creating new Ultralytics Settings v0.0.6 file ✅ \n",
      "View Ultralytics Settings with 'yolo settings' or at '/tmp/Ultralytics/settings.json'\n",
      "Update Settings with 'yolo settings key=value', i.e. 'yolo settings runs_dir=path/to/dir'. For help see https://docs.ultralytics.com/quickstart/#ultralytics-settings.\n"
     ]
    }
   ],
   "source": [
    "# %matplotlib inline\n",
    "# import matplotlib.pyplot as plt\n",
    "\n",
    "import io\n",
    "\n",
    "import numpy as np\n",
    "import cv2\n",
    "\n",
    "\n",
    "from PIL import Image\n",
    "import subprocess\n",
    "import ultralytics\n",
    "from ultralytics import YOLO\n",
    "from ultralytics.utils import LOGGER\n",
    "import logging\n",
    "\n",
    "LOGGER.setLevel(logging.ERROR)"
   ]
  },
  {
   "cell_type": "code",
   "execution_count": 2,
   "id": "2066dd07",
   "metadata": {},
   "outputs": [],
   "source": [
    "def get_b_array(image_path):\n",
    "    with open(image_path, 'rb') as image_file:\n",
    "        img1 = Image.open(image_file)\n",
    "        \n",
    "        # Convert the image to a byte stream in JPEG format\n",
    "        img_byte_arr = io.BytesIO()\n",
    "        img1.save(img_byte_arr, format='JPEG')  # or 'PNG' if you prefer\n",
    "        img_byte_arr = img_byte_arr.getvalue()\n",
    "    return img_byte_arr"
   ]
  },
  {
   "cell_type": "code",
   "execution_count": 3,
   "id": "2c0154d8",
   "metadata": {},
   "outputs": [],
   "source": [
    "def find_webcam_index(device_name):\n",
    "    command = \"v4l2-ctl --list-devices\"\n",
    "    output = subprocess.check_output(command, shell=True, text=True)\n",
    "    devices = output.split('\\n\\n')\n",
    "    \n",
    "    for device in devices:\n",
    "        if device_name in device:\n",
    "            lines = device.split('\\n')\n",
    "            for line in lines:\n",
    "                if \"video\" in line:\n",
    "                    parts = line.split()\n",
    "                    for part in parts:\n",
    "                        if part.startswith('/dev/video'):\n",
    "                            print(part)\n",
    "                            return (part[10:])"
   ]
  },
  {
   "cell_type": "code",
   "execution_count": 4,
   "id": "33180113",
   "metadata": {},
   "outputs": [
    {
     "name": "stdout",
     "output_type": "stream",
     "text": [
      "/dev/video2\n"
     ]
    },
    {
     "data": {
      "text/plain": [
       "2"
      ]
     },
     "execution_count": 4,
     "metadata": {},
     "output_type": "execute_result"
    }
   ],
   "source": [
    "webcam_index = int(find_webcam_index(\"C922\")) #C922 #3D USB\n",
    "webcam_index\n"
   ]
  },
  {
   "cell_type": "code",
   "execution_count": 5,
   "id": "c6cf7b15",
   "metadata": {},
   "outputs": [],
   "source": [
    "import ultralytics\n",
    "from ultralytics import YOLO\n"
   ]
  },
  {
   "cell_type": "code",
   "execution_count": 6,
   "id": "78ac24c0",
   "metadata": {},
   "outputs": [],
   "source": [
    "model = YOLO(\"yolov8s.pt\") "
   ]
  },
  {
   "cell_type": "code",
   "execution_count": 7,
   "id": "a80f44e2",
   "metadata": {},
   "outputs": [],
   "source": [
    "width = 640 #320  # Desired width\n",
    "height = 480 # 240  # Desired height\n",
    "mult = 1\n",
    "cap = cv2.VideoCapture(webcam_index)\n",
    "cap.set(cv2.CAP_PROP_FRAME_WIDTH, width)\n",
    "cap.set(cv2.CAP_PROP_FRAME_HEIGHT, height)\n",
    "\n",
    "if not cap.isOpened():\n",
    "    print(\"Error: Could not open video stream.\")\n",
    "    exit()\n",
    "\n",
    "while True:\n",
    "    # Read a frame from the camera\n",
    "    ret, frame = cap.read()\n",
    "\n",
    "    # If the frame was read correctly\n",
    "    if not ret:\n",
    "        print(\"Error: Failed to read frame.\")\n",
    "        break\n",
    "\n",
    "    results = model(frame)[0]\n",
    "    frame = results.plot()\n",
    "    # Display the frame\n",
    "    cv2.imshow('Camera Stream', frame)\n",
    "\n",
    "    # Press 'q' to quit the stream\n",
    "    if cv2.waitKey(1) & 0xFF == ord('q'):\n",
    "        cv2.imwrite('frame.jpg', frame)\n",
    "        break\n",
    "\n",
    "\n",
    "# Release the capture and closeq the window\n",
    "cap.release()\n",
    "cv2.destroyAllWindows()"
   ]
  },
  {
   "cell_type": "code",
   "execution_count": null,
   "id": "830172c2",
   "metadata": {},
   "outputs": [],
   "source": []
  }
 ],
 "metadata": {
  "kernelspec": {
   "display_name": "Python 3",
   "language": "python",
   "name": "python3"
  },
  "language_info": {
   "codemirror_mode": {
    "name": "ipython",
    "version": 3
   },
   "file_extension": ".py",
   "mimetype": "text/x-python",
   "name": "python",
   "nbconvert_exporter": "python",
   "pygments_lexer": "ipython3",
   "version": "3.10.12"
  }
 },
 "nbformat": 4,
 "nbformat_minor": 5
}
