{
 "cells": [
  {
   "cell_type": "code",
   "execution_count": 1,
   "metadata": {},
   "outputs": [],
   "source": [
    "from bus_servo_http import BusServoHttp"
   ]
  },
  {
   "cell_type": "code",
   "execution_count": 12,
   "metadata": {},
   "outputs": [],
   "source": [
    "URL_XARM = 'http://192.168.1.125'"
   ]
  },
  {
   "cell_type": "code",
   "execution_count": 13,
   "metadata": {},
   "outputs": [],
   "source": [
    "servo = BusServoHttp(URL_XARM)"
   ]
  },
  {
   "cell_type": "code",
   "execution_count": 14,
   "metadata": {},
   "outputs": [
    {
     "name": "stdout",
     "output_type": "stream",
     "text": [
      "[486, 521, 514, 521, 505, 510]\n"
     ]
    }
   ],
   "source": [
    "position = servo.get_positions()"
   ]
  },
  {
   "cell_type": "code",
   "execution_count": 10,
   "metadata": {},
   "outputs": [
    {
     "data": {
      "text/plain": [
       "[False, False, False, False, False, False]"
      ]
     },
     "execution_count": 10,
     "metadata": {},
     "output_type": "execute_result"
    }
   ],
   "source": [
    "position"
   ]
  },
  {
   "cell_type": "code",
   "execution_count": 11,
   "metadata": {},
   "outputs": [
    {
     "name": "stdout",
     "output_type": "stream",
     "text": [
      "null\n"
     ]
    },
    {
     "data": {
      "text/plain": [
       "'null'"
      ]
     },
     "execution_count": 11,
     "metadata": {},
     "output_type": "execute_result"
    }
   ],
   "source": [
    "servo.run(2,600)"
   ]
  },
  {
   "cell_type": "code",
   "execution_count": 24,
   "metadata": {},
   "outputs": [
    {
     "name": "stdout",
     "output_type": "stream",
     "text": [
      "null\n"
     ]
    },
    {
     "data": {
      "text/plain": [
       "'null'"
      ]
     },
     "execution_count": 24,
     "metadata": {},
     "output_type": "execute_result"
    }
   ],
   "source": [
    "servo.run(2,200)"
   ]
  },
  {
   "cell_type": "code",
   "execution_count": 23,
   "metadata": {},
   "outputs": [],
   "source": [
    "import requests\n",
    "req=requests.get('http://192.168.1.122/command?method=unload&params=2')"
   ]
  },
  {
   "cell_type": "code",
   "execution_count": 11,
   "metadata": {},
   "outputs": [
    {
     "name": "stdout",
     "output_type": "stream",
     "text": [
      "<Response [200]>\n"
     ]
    }
   ],
   "source": [
    "print(req)"
   ]
  },
  {
   "cell_type": "code",
   "execution_count": 13,
   "metadata": {},
   "outputs": [
    {
     "data": {
      "text/plain": [
       "'null'"
      ]
     },
     "execution_count": 13,
     "metadata": {},
     "output_type": "execute_result"
    }
   ],
   "source": [
    "req.text"
   ]
  },
  {
   "cell_type": "code",
   "execution_count": 11,
   "metadata": {},
   "outputs": [],
   "source": [
    "URL_XARM = 'http://192.168.1.121'\n",
    "import requests\n",
    "def run_commandtst(command, params):\n",
    "        if params:\n",
    "            url = f\"{URL_XARM}/command?method={command}&params={','.join(map(str, params))}\"\n",
    "        else:\n",
    "            url = f\"{URL_XARM}/command?method={command}\"\n",
    "        try:\n",
    "            response = requests.get(url)\n",
    "            print(response.text)\n",
    "            response.raise_for_status()\n",
    "            return response\n",
    "            # return response.json() if response.headers['Content-Type'] == 'application/json' else response.text\n",
    "        except requests.RequestException as e:\n",
    "            print(f\"Request failed: {e}\")\n",
    "            # self.session = requests.Session()  # Reopen session if connection fails\n",
    "            return None"
   ]
  },
  {
   "cell_type": "code",
   "execution_count": 12,
   "metadata": {},
   "outputs": [
    {
     "name": "stdout",
     "output_type": "stream",
     "text": [
      "493\n"
     ]
    }
   ],
   "source": [
    "tmp = run_commandtst('get_position', [1])"
   ]
  },
  {
   "cell_type": "code",
   "execution_count": 13,
   "metadata": {},
   "outputs": [
    {
     "data": {
      "text/plain": [
       "<Response [200]>"
      ]
     },
     "execution_count": 13,
     "metadata": {},
     "output_type": "execute_result"
    }
   ],
   "source": [
    "tmp"
   ]
  },
  {
   "cell_type": "code",
   "execution_count": 14,
   "metadata": {},
   "outputs": [
    {
     "data": {
      "text/plain": [
       "b'493'"
      ]
     },
     "execution_count": 14,
     "metadata": {},
     "output_type": "execute_result"
    }
   ],
   "source": [
    "tmp.content"
   ]
  },
  {
   "cell_type": "code",
   "execution_count": 2,
   "metadata": {},
   "outputs": [
    {
     "name": "stdout",
     "output_type": "stream",
     "text": [
      "n/a /dev/ttyS31\n",
      "n/a /dev/ttyS30\n",
      "n/a /dev/ttyS29\n",
      "n/a /dev/ttyS28\n",
      "n/a /dev/ttyS27\n",
      "n/a /dev/ttyS26\n",
      "n/a /dev/ttyS25\n",
      "n/a /dev/ttyS24\n",
      "n/a /dev/ttyS23\n",
      "n/a /dev/ttyS22\n",
      "n/a /dev/ttyS21\n",
      "n/a /dev/ttyS20\n",
      "n/a /dev/ttyS19\n",
      "n/a /dev/ttyS18\n",
      "n/a /dev/ttyS17\n",
      "n/a /dev/ttyS16\n",
      "n/a /dev/ttyS15\n",
      "n/a /dev/ttyS14\n",
      "n/a /dev/ttyS13\n",
      "n/a /dev/ttyS12\n",
      "n/a /dev/ttyS11\n",
      "n/a /dev/ttyS10\n",
      "n/a /dev/ttyS9\n",
      "n/a /dev/ttyS8\n",
      "n/a /dev/ttyS7\n",
      "n/a /dev/ttyS6\n",
      "n/a /dev/ttyS5\n",
      "n/a /dev/ttyS4\n",
      "n/a /dev/ttyS3\n",
      "n/a /dev/ttyS2\n",
      "n/a /dev/ttyS1\n",
      "n/a /dev/ttyS0\n"
     ]
    }
   ],
   "source": [
    "import serial.tools.list_ports\n",
    "\n",
    "def find_device_port():\n",
    "    ports = serial.tools.list_ports.comports()\n",
    "\n",
    "    for port in ports:\n",
    "        print(port.description, port.device)\n",
    "    return ports\n",
    "\n",
    "\n",
    "p=find_device_port()"
   ]
  },
  {
   "cell_type": "code",
   "execution_count": 2,
   "metadata": {},
   "outputs": [
    {
     "data": {
      "text/plain": [
       "'/dev/ttyS30'"
      ]
     },
     "execution_count": 2,
     "metadata": {},
     "output_type": "execute_result"
    }
   ],
   "source": [
    "p[1].device"
   ]
  },
  {
   "cell_type": "code",
   "execution_count": 26,
   "metadata": {},
   "outputs": [],
   "source": [
    "from bus_servo_serial import BusServoSerial, print_open_ports"
   ]
  },
  {
   "cell_type": "code",
   "execution_count": 29,
   "metadata": {},
   "outputs": [],
   "source": [
    "servo = BusServoSerial('/dev/ttyUSB0')"
   ]
  },
  {
   "cell_type": "code",
   "execution_count": 30,
   "metadata": {},
   "outputs": [
    {
     "data": {
      "text/plain": [
       "''"
      ]
     },
     "execution_count": 30,
     "metadata": {},
     "output_type": "execute_result"
    }
   ],
   "source": [
    "servo.run(5,600)"
   ]
  },
  {
   "cell_type": "code",
   "execution_count": 32,
   "metadata": {},
   "outputs": [
    {
     "name": "stdout",
     "output_type": "stream",
     "text": [
      "Position of servo 1: 623\n"
     ]
    }
   ],
   "source": [
    "position = servo.get_position(id=1)\n",
    "print(f\"Position of servo 1: {position}\")"
   ]
  },
  {
   "cell_type": "code",
   "execution_count": 14,
   "metadata": {},
   "outputs": [
    {
     "name": "stdout",
     "output_type": "stream",
     "text": [
      "Method: run, Args: [5, 200, 1000]\n"
     ]
    }
   ],
   "source": [
    "import sys\n",
    "buffer = \"bus_servo.run(5, 200, 1000)\"\n",
    "line = buffer.strip()\n",
    "buffer = \"\"\n",
    "if line:\n",
    "    try:\n",
    "        if line.startswith(\"bus_servo.\"):\n",
    "            # Extract method call, e.g. \"bus_servo.run(1, 500, 1000)\"\n",
    "            cmd = line[len(\"bus_servo.\"):]\n",
    "\n",
    "            # Extract method name and arguments\n",
    "            method_name = cmd.split(\"(\")[0]\n",
    "            arg_string = cmd.split(\"(\")[1].rstrip(\")\")\n",
    "            args = []\n",
    "            if arg_string.strip():\n",
    "                args = [eval(x) for x in arg_string.split(\",\")]\n",
    "                # args = [int(x.strip()) if x.strip().isdigit() else x.strip() for x in arg_string.split(\",\") if x.strip()]\n",
    "            print(f\"Method: {method_name}, Args: {args}\")\n",
    "            # if method_name in name2bus_method:\n",
    "            #     result = name2bus_method[method_name](*args)\n",
    "            #     uart.write(str(result) + \"\\n>>> \")\n",
    "        #     else:\n",
    "        #         uart.write(\"Invalid method\\n>>> \")\n",
    "        # else:\n",
    "        #     uart.write(\"Unknown command\\n>>> \")\n",
    "    except Exception as e:\n",
    "        sys.print_exception(e)\n",
    "        # uart.write(\"Error: %s\\n>>> \" % str(e))\n"
   ]
  },
  {
   "cell_type": "code",
   "execution_count": null,
   "metadata": {},
   "outputs": [],
   "source": []
  }
 ],
 "metadata": {
  "kernelspec": {
   "display_name": "Python 3",
   "language": "python",
   "name": "python3"
  },
  "language_info": {
   "codemirror_mode": {
    "name": "ipython",
    "version": 3
   },
   "file_extension": ".py",
   "mimetype": "text/x-python",
   "name": "python",
   "nbconvert_exporter": "python",
   "pygments_lexer": "ipython3",
   "version": "3.10.12"
  }
 },
 "nbformat": 4,
 "nbformat_minor": 2
}
